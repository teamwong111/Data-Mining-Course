{
 "metadata": {
  "language_info": {
   "codemirror_mode": {
    "name": "ipython",
    "version": 3
   },
   "file_extension": ".py",
   "mimetype": "text/x-python",
   "name": "python",
   "nbconvert_exporter": "python",
   "pygments_lexer": "ipython3",
   "version": "3.8.6-final"
  },
  "orig_nbformat": 2,
  "kernelspec": {
   "name": "python3",
   "display_name": "Python 3.8.6 64-bit",
   "metadata": {
    "interpreter": {
     "hash": "60fbe3eee9b16f96bb50f2be44dccea2862a317e0efd033bcc3aefb4499515b7"
    }
   }
  }
 },
 "nbformat": 4,
 "nbformat_minor": 2,
 "cells": [
  {
   "cell_type": "code",
   "execution_count": 1,
   "metadata": {},
   "outputs": [],
   "source": [
    "# 引入相关的包\n",
    "import pandas as pd\n",
    "import numpy as np\n",
    "import talib\n",
    "import matplotlib.pyplot as plt\n",
    "from datetime import datetime,date\n",
    "from keras.models import Sequential\n",
    "from keras.layers import Dense, LSTM,Dropout\n",
    "from keras import utils\n",
    "from keras import optimizers\n",
    "from sklearn.ensemble import AdaBoostClassifier\n",
    "from sklearn.tree import DecisionTreeClassifier\n",
    "from sklearn.metrics import classification_report\n",
    "from collections import Counter\n",
    "from sklearn.decomposition import PCA"
   ]
  },
  {
   "cell_type": "code",
   "execution_count": 2,
   "metadata": {},
   "outputs": [],
   "source": [
    "# 从csv中读取数据\n",
    "np.set_printoptions(suppress=True)\n",
    "stock = pd.read_csv('.\\\\data\\\\stock.csv',encoding='gb2312')\n",
    "dollar = pd.read_csv('.\\\\data\\\\dollar.csv')\n",
    "rate = pd.read_csv('.\\\\data\\\\rate.csv')"
   ]
  },
  {
   "cell_type": "code",
   "execution_count": 3,
   "metadata": {},
   "outputs": [
    {
     "output_type": "execute_result",
     "data": {
      "text/plain": [
       "          日期     股票代码    名称       收盘价       最高价       最低价       开盘价       前收盘  \\\n",
       "0 2010-01-04  '000001  上证指数  3243.760  3295.279  3243.319  3289.750  3277.139   \n",
       "1 2010-01-05  '000001  上证指数  3282.179  3290.512  3221.462  3254.468  3243.760   \n",
       "2 2010-01-06  '000001  上证指数  3254.215  3295.868  3253.044  3277.517  3282.179   \n",
       "3 2010-01-07  '000001  上证指数  3192.776  3268.819  3176.707  3253.991  3254.215   \n",
       "4 2010-01-08  '000001  上证指数  3195.997  3198.920  3149.017  3177.259  3192.776   \n",
       "\n",
       "      涨跌额     涨跌幅  ...   d开盘价   d最高价   d最低价  d成交量  d涨跌幅     r收盘     r开盘  \\\n",
       "0 -33.379 -1.0185  ...  77.92  78.19  77.26     - -0.42  6.8285  6.8297   \n",
       "1  38.419  1.1844  ...  77.37  77.71  77.09     -  0.12  6.8268  6.8283   \n",
       "2 -27.964 -0.8520  ...  77.65  78.00  77.36     - -0.17  6.8278  6.8277   \n",
       "3 -61.439 -1.8880  ...  77.37  78.08  77.30     -  0.54  6.8281  6.8269   \n",
       "4   3.221  0.1009  ...  77.98  78.19  77.35     - -0.56  6.8276  6.8278   \n",
       "\n",
       "       r高      r低  r涨跌幅  \n",
       "0  6.8297  6.8270  0.02  \n",
       "1  6.8288  6.8257 -0.02  \n",
       "2  6.8291  6.8267  0.01  \n",
       "3  6.8282  6.8258  0.00  \n",
       "4  6.8285  6.8260 -0.01  \n",
       "\n",
       "[5 rows x 23 columns]"
      ],
      "text/html": "<div>\n<style scoped>\n    .dataframe tbody tr th:only-of-type {\n        vertical-align: middle;\n    }\n\n    .dataframe tbody tr th {\n        vertical-align: top;\n    }\n\n    .dataframe thead th {\n        text-align: right;\n    }\n</style>\n<table border=\"1\" class=\"dataframe\">\n  <thead>\n    <tr style=\"text-align: right;\">\n      <th></th>\n      <th>日期</th>\n      <th>股票代码</th>\n      <th>名称</th>\n      <th>收盘价</th>\n      <th>最高价</th>\n      <th>最低价</th>\n      <th>开盘价</th>\n      <th>前收盘</th>\n      <th>涨跌额</th>\n      <th>涨跌幅</th>\n      <th>...</th>\n      <th>d开盘价</th>\n      <th>d最高价</th>\n      <th>d最低价</th>\n      <th>d成交量</th>\n      <th>d涨跌幅</th>\n      <th>r收盘</th>\n      <th>r开盘</th>\n      <th>r高</th>\n      <th>r低</th>\n      <th>r涨跌幅</th>\n    </tr>\n  </thead>\n  <tbody>\n    <tr>\n      <th>0</th>\n      <td>2010-01-04</td>\n      <td>'000001</td>\n      <td>上证指数</td>\n      <td>3243.760</td>\n      <td>3295.279</td>\n      <td>3243.319</td>\n      <td>3289.750</td>\n      <td>3277.139</td>\n      <td>-33.379</td>\n      <td>-1.0185</td>\n      <td>...</td>\n      <td>77.92</td>\n      <td>78.19</td>\n      <td>77.26</td>\n      <td>-</td>\n      <td>-0.42</td>\n      <td>6.8285</td>\n      <td>6.8297</td>\n      <td>6.8297</td>\n      <td>6.8270</td>\n      <td>0.02</td>\n    </tr>\n    <tr>\n      <th>1</th>\n      <td>2010-01-05</td>\n      <td>'000001</td>\n      <td>上证指数</td>\n      <td>3282.179</td>\n      <td>3290.512</td>\n      <td>3221.462</td>\n      <td>3254.468</td>\n      <td>3243.760</td>\n      <td>38.419</td>\n      <td>1.1844</td>\n      <td>...</td>\n      <td>77.37</td>\n      <td>77.71</td>\n      <td>77.09</td>\n      <td>-</td>\n      <td>0.12</td>\n      <td>6.8268</td>\n      <td>6.8283</td>\n      <td>6.8288</td>\n      <td>6.8257</td>\n      <td>-0.02</td>\n    </tr>\n    <tr>\n      <th>2</th>\n      <td>2010-01-06</td>\n      <td>'000001</td>\n      <td>上证指数</td>\n      <td>3254.215</td>\n      <td>3295.868</td>\n      <td>3253.044</td>\n      <td>3277.517</td>\n      <td>3282.179</td>\n      <td>-27.964</td>\n      <td>-0.8520</td>\n      <td>...</td>\n      <td>77.65</td>\n      <td>78.00</td>\n      <td>77.36</td>\n      <td>-</td>\n      <td>-0.17</td>\n      <td>6.8278</td>\n      <td>6.8277</td>\n      <td>6.8291</td>\n      <td>6.8267</td>\n      <td>0.01</td>\n    </tr>\n    <tr>\n      <th>3</th>\n      <td>2010-01-07</td>\n      <td>'000001</td>\n      <td>上证指数</td>\n      <td>3192.776</td>\n      <td>3268.819</td>\n      <td>3176.707</td>\n      <td>3253.991</td>\n      <td>3254.215</td>\n      <td>-61.439</td>\n      <td>-1.8880</td>\n      <td>...</td>\n      <td>77.37</td>\n      <td>78.08</td>\n      <td>77.30</td>\n      <td>-</td>\n      <td>0.54</td>\n      <td>6.8281</td>\n      <td>6.8269</td>\n      <td>6.8282</td>\n      <td>6.8258</td>\n      <td>0.00</td>\n    </tr>\n    <tr>\n      <th>4</th>\n      <td>2010-01-08</td>\n      <td>'000001</td>\n      <td>上证指数</td>\n      <td>3195.997</td>\n      <td>3198.920</td>\n      <td>3149.017</td>\n      <td>3177.259</td>\n      <td>3192.776</td>\n      <td>3.221</td>\n      <td>0.1009</td>\n      <td>...</td>\n      <td>77.98</td>\n      <td>78.19</td>\n      <td>77.35</td>\n      <td>-</td>\n      <td>-0.56</td>\n      <td>6.8276</td>\n      <td>6.8278</td>\n      <td>6.8285</td>\n      <td>6.8260</td>\n      <td>-0.01</td>\n    </tr>\n  </tbody>\n</table>\n<p>5 rows × 23 columns</p>\n</div>"
     },
     "metadata": {},
     "execution_count": 3
    }
   ],
   "source": [
    "# 去除不合理数据\n",
    "stock=stock.mask(stock.eq('None')).dropna()\n",
    "\n",
    "# 时间格式转换\n",
    "stock['日期']=pd.to_datetime(stock['日期'],format='%Y/%m/%d')\n",
    "dollar['日期']=pd.to_datetime(dollar['日期'],format='%Y年%m月%d日')\n",
    "rate['日期']=pd.to_datetime(rate['日期'],format='%Y年%m月%d日')\n",
    "\n",
    "# 去除%\n",
    "dollar['d涨跌幅']=dollar['d涨跌幅'].str.strip(\"%\").astype(float)\n",
    "rate['r涨跌幅']=rate['r涨跌幅'].str.strip(\"%\").astype(float)\n",
    "\n",
    "# 合并\n",
    "stock=pd.merge(stock, dollar, on='日期')\n",
    "stock=pd.merge(stock, rate, on='日期')\n",
    "stock.head()"
   ]
  },
  {
   "cell_type": "code",
   "execution_count": 4,
   "metadata": {},
   "outputs": [
    {
     "output_type": "execute_result",
     "data": {
      "text/plain": [
       "          日期     股票代码    名称       收盘价       最高价       最低价       开盘价       前收盘  \\\n",
       "0 2010-01-04  '000001  上证指数  3243.760  3295.279  3243.319  3289.750  3277.139   \n",
       "1 2010-01-05  '000001  上证指数  3282.179  3290.512  3221.462  3254.468  3243.760   \n",
       "2 2010-01-06  '000001  上证指数  3254.215  3295.868  3253.044  3277.517  3282.179   \n",
       "3 2010-01-07  '000001  上证指数  3192.776  3268.819  3176.707  3253.991  3254.215   \n",
       "4 2010-01-08  '000001  上证指数  3195.997  3198.920  3149.017  3177.259  3192.776   \n",
       "\n",
       "      涨跌额     涨跌幅  ...  k_data  d_data  j_data  wms_data  rsi  cci_data  \\\n",
       "0 -33.379 -1.0185  ...     NaN     NaN     NaN       NaN  NaN       NaN   \n",
       "1  38.419  1.1844  ...     NaN     NaN     NaN       NaN  NaN       NaN   \n",
       "2 -27.964 -0.8520  ...     NaN     NaN     NaN       NaN  NaN       NaN   \n",
       "3 -61.439 -1.8880  ...     NaN     NaN     NaN       NaN  NaN       NaN   \n",
       "4   3.221  0.1009  ...     NaN     NaN     NaN       NaN  NaN       NaN   \n",
       "\n",
       "  mom_data  boll_upper  boll_middle  boll_lower  \n",
       "0      NaN         NaN          NaN         NaN  \n",
       "1      NaN         NaN          NaN         NaN  \n",
       "2      NaN         NaN          NaN         NaN  \n",
       "3      NaN         NaN          NaN         NaN  \n",
       "4      NaN         NaN          NaN         NaN  \n",
       "\n",
       "[5 rows x 35 columns]"
      ],
      "text/html": "<div>\n<style scoped>\n    .dataframe tbody tr th:only-of-type {\n        vertical-align: middle;\n    }\n\n    .dataframe tbody tr th {\n        vertical-align: top;\n    }\n\n    .dataframe thead th {\n        text-align: right;\n    }\n</style>\n<table border=\"1\" class=\"dataframe\">\n  <thead>\n    <tr style=\"text-align: right;\">\n      <th></th>\n      <th>日期</th>\n      <th>股票代码</th>\n      <th>名称</th>\n      <th>收盘价</th>\n      <th>最高价</th>\n      <th>最低价</th>\n      <th>开盘价</th>\n      <th>前收盘</th>\n      <th>涨跌额</th>\n      <th>涨跌幅</th>\n      <th>...</th>\n      <th>k_data</th>\n      <th>d_data</th>\n      <th>j_data</th>\n      <th>wms_data</th>\n      <th>rsi</th>\n      <th>cci_data</th>\n      <th>mom_data</th>\n      <th>boll_upper</th>\n      <th>boll_middle</th>\n      <th>boll_lower</th>\n    </tr>\n  </thead>\n  <tbody>\n    <tr>\n      <th>0</th>\n      <td>2010-01-04</td>\n      <td>'000001</td>\n      <td>上证指数</td>\n      <td>3243.760</td>\n      <td>3295.279</td>\n      <td>3243.319</td>\n      <td>3289.750</td>\n      <td>3277.139</td>\n      <td>-33.379</td>\n      <td>-1.0185</td>\n      <td>...</td>\n      <td>NaN</td>\n      <td>NaN</td>\n      <td>NaN</td>\n      <td>NaN</td>\n      <td>NaN</td>\n      <td>NaN</td>\n      <td>NaN</td>\n      <td>NaN</td>\n      <td>NaN</td>\n      <td>NaN</td>\n    </tr>\n    <tr>\n      <th>1</th>\n      <td>2010-01-05</td>\n      <td>'000001</td>\n      <td>上证指数</td>\n      <td>3282.179</td>\n      <td>3290.512</td>\n      <td>3221.462</td>\n      <td>3254.468</td>\n      <td>3243.760</td>\n      <td>38.419</td>\n      <td>1.1844</td>\n      <td>...</td>\n      <td>NaN</td>\n      <td>NaN</td>\n      <td>NaN</td>\n      <td>NaN</td>\n      <td>NaN</td>\n      <td>NaN</td>\n      <td>NaN</td>\n      <td>NaN</td>\n      <td>NaN</td>\n      <td>NaN</td>\n    </tr>\n    <tr>\n      <th>2</th>\n      <td>2010-01-06</td>\n      <td>'000001</td>\n      <td>上证指数</td>\n      <td>3254.215</td>\n      <td>3295.868</td>\n      <td>3253.044</td>\n      <td>3277.517</td>\n      <td>3282.179</td>\n      <td>-27.964</td>\n      <td>-0.8520</td>\n      <td>...</td>\n      <td>NaN</td>\n      <td>NaN</td>\n      <td>NaN</td>\n      <td>NaN</td>\n      <td>NaN</td>\n      <td>NaN</td>\n      <td>NaN</td>\n      <td>NaN</td>\n      <td>NaN</td>\n      <td>NaN</td>\n    </tr>\n    <tr>\n      <th>3</th>\n      <td>2010-01-07</td>\n      <td>'000001</td>\n      <td>上证指数</td>\n      <td>3192.776</td>\n      <td>3268.819</td>\n      <td>3176.707</td>\n      <td>3253.991</td>\n      <td>3254.215</td>\n      <td>-61.439</td>\n      <td>-1.8880</td>\n      <td>...</td>\n      <td>NaN</td>\n      <td>NaN</td>\n      <td>NaN</td>\n      <td>NaN</td>\n      <td>NaN</td>\n      <td>NaN</td>\n      <td>NaN</td>\n      <td>NaN</td>\n      <td>NaN</td>\n      <td>NaN</td>\n    </tr>\n    <tr>\n      <th>4</th>\n      <td>2010-01-08</td>\n      <td>'000001</td>\n      <td>上证指数</td>\n      <td>3195.997</td>\n      <td>3198.920</td>\n      <td>3149.017</td>\n      <td>3177.259</td>\n      <td>3192.776</td>\n      <td>3.221</td>\n      <td>0.1009</td>\n      <td>...</td>\n      <td>NaN</td>\n      <td>NaN</td>\n      <td>NaN</td>\n      <td>NaN</td>\n      <td>NaN</td>\n      <td>NaN</td>\n      <td>NaN</td>\n      <td>NaN</td>\n      <td>NaN</td>\n      <td>NaN</td>\n    </tr>\n  </tbody>\n</table>\n<p>5 rows × 35 columns</p>\n</div>"
     },
     "metadata": {},
     "execution_count": 4
    }
   ],
   "source": [
    "# 加入技术指标\n",
    "# MA\n",
    "stock['ma_5_data'] = talib.MA(stock['收盘价'].values, timeperiod=5)\n",
    "stock['ma_30_data'] = talib.MA(stock['收盘价'].values, timeperiod=30)\n",
    "\n",
    "# KDJ\n",
    "stock['k_data'], stock['d_data'] = talib.STOCH(stock['最高价'].values, stock['最低价'].values, stock['收盘价'].values, fastk_period=9,slowk_period=3, slowk_matype=0, slowd_period=3, slowd_matype=0)\n",
    "stock['j_data'] = 3 * stock['k_data'] - 2 * stock['d_data']\n",
    "\n",
    "# WMS\n",
    "stock['wms_data'] = -talib.WILLR(stock['最高价'].values, stock['最低价'].values, stock['收盘价'].values, timeperiod=14)\n",
    "\n",
    "# RSI\n",
    "stock['rsi'] = talib.RSI(stock['收盘价'].values)\n",
    "\n",
    "# CCI\n",
    "stock['cci_data'] = talib.CCI(stock['最高价'].values, stock['最低价'].values, stock['收盘价'].values)\n",
    "\n",
    "# MOM\n",
    "stock['mom_data'] = talib.MOM(stock['收盘价'].values)\n",
    "\n",
    "# BOLL\n",
    "stock['boll_upper'], stock['boll_middle'], stock['boll_lower'] = talib.BBANDS(stock['收盘价'].values, timeperiod=20, nbdevup=2, nbdevdn=2, matype=0)\n",
    "\n",
    "stock.head()"
   ]
  },
  {
   "cell_type": "code",
   "execution_count": 5,
   "metadata": {},
   "outputs": [
    {
     "output_type": "execute_result",
     "data": {
      "text/plain": [
       "           日期     股票代码    名称       收盘价       最高价       最低价       开盘价  \\\n",
       "29 2010-02-12  '000001  上证指数  3018.133  3018.858  2993.437  2996.088   \n",
       "30 2010-02-22  '000001  上证指数  3003.398  3026.659  3002.811  3016.703   \n",
       "31 2010-02-23  '000001  上证指数  2982.575  2998.907  2938.753  2998.907   \n",
       "32 2010-02-24  '000001  上证指数  3022.177  3023.739  2955.069  2964.984   \n",
       "33 2010-02-25  '000001  上证指数  3060.618  3063.004  3022.373  3026.656   \n",
       "\n",
       "         前收盘     涨跌额     涨跌幅  ...     k_data     d_data      j_data  \\\n",
       "29  2985.499  32.634  1.0931  ...  81.448809  64.185810  115.974807   \n",
       "30  3018.133 -14.735 -0.4882  ...  86.243917  76.846039  105.039674   \n",
       "31  3003.398 -20.823 -0.6933  ...  80.500078  82.730935   76.038364   \n",
       "32  2982.575  39.602  1.3278  ...  79.301110  82.015035   73.873261   \n",
       "33  3022.177  38.441  1.2720  ...  84.410916  81.404035   90.424679   \n",
       "\n",
       "     wms_data        rsi    cci_data mom_data   boll_upper  boll_middle  \\\n",
       "29  41.010328  44.070893   89.020124   28.841  3227.855957   3034.59430   \n",
       "30  18.213755  42.473471  106.651209   62.038  3192.606098   3022.90930   \n",
       "31  32.263353  40.253007    2.323344   47.862  3145.310711   3009.69435   \n",
       "32   3.280200  46.031625   80.006144   18.342  3122.429676   3003.21070   \n",
       "33   1.379326  50.987051  178.449498   65.310  3097.949016   2998.29845   \n",
       "\n",
       "     boll_lower  \n",
       "29  2841.332643  \n",
       "30  2853.212502  \n",
       "31  2874.077989  \n",
       "32  2883.991724  \n",
       "33  2898.647884  \n",
       "\n",
       "[5 rows x 35 columns]"
      ],
      "text/html": "<div>\n<style scoped>\n    .dataframe tbody tr th:only-of-type {\n        vertical-align: middle;\n    }\n\n    .dataframe tbody tr th {\n        vertical-align: top;\n    }\n\n    .dataframe thead th {\n        text-align: right;\n    }\n</style>\n<table border=\"1\" class=\"dataframe\">\n  <thead>\n    <tr style=\"text-align: right;\">\n      <th></th>\n      <th>日期</th>\n      <th>股票代码</th>\n      <th>名称</th>\n      <th>收盘价</th>\n      <th>最高价</th>\n      <th>最低价</th>\n      <th>开盘价</th>\n      <th>前收盘</th>\n      <th>涨跌额</th>\n      <th>涨跌幅</th>\n      <th>...</th>\n      <th>k_data</th>\n      <th>d_data</th>\n      <th>j_data</th>\n      <th>wms_data</th>\n      <th>rsi</th>\n      <th>cci_data</th>\n      <th>mom_data</th>\n      <th>boll_upper</th>\n      <th>boll_middle</th>\n      <th>boll_lower</th>\n    </tr>\n  </thead>\n  <tbody>\n    <tr>\n      <th>29</th>\n      <td>2010-02-12</td>\n      <td>'000001</td>\n      <td>上证指数</td>\n      <td>3018.133</td>\n      <td>3018.858</td>\n      <td>2993.437</td>\n      <td>2996.088</td>\n      <td>2985.499</td>\n      <td>32.634</td>\n      <td>1.0931</td>\n      <td>...</td>\n      <td>81.448809</td>\n      <td>64.185810</td>\n      <td>115.974807</td>\n      <td>41.010328</td>\n      <td>44.070893</td>\n      <td>89.020124</td>\n      <td>28.841</td>\n      <td>3227.855957</td>\n      <td>3034.59430</td>\n      <td>2841.332643</td>\n    </tr>\n    <tr>\n      <th>30</th>\n      <td>2010-02-22</td>\n      <td>'000001</td>\n      <td>上证指数</td>\n      <td>3003.398</td>\n      <td>3026.659</td>\n      <td>3002.811</td>\n      <td>3016.703</td>\n      <td>3018.133</td>\n      <td>-14.735</td>\n      <td>-0.4882</td>\n      <td>...</td>\n      <td>86.243917</td>\n      <td>76.846039</td>\n      <td>105.039674</td>\n      <td>18.213755</td>\n      <td>42.473471</td>\n      <td>106.651209</td>\n      <td>62.038</td>\n      <td>3192.606098</td>\n      <td>3022.90930</td>\n      <td>2853.212502</td>\n    </tr>\n    <tr>\n      <th>31</th>\n      <td>2010-02-23</td>\n      <td>'000001</td>\n      <td>上证指数</td>\n      <td>2982.575</td>\n      <td>2998.907</td>\n      <td>2938.753</td>\n      <td>2998.907</td>\n      <td>3003.398</td>\n      <td>-20.823</td>\n      <td>-0.6933</td>\n      <td>...</td>\n      <td>80.500078</td>\n      <td>82.730935</td>\n      <td>76.038364</td>\n      <td>32.263353</td>\n      <td>40.253007</td>\n      <td>2.323344</td>\n      <td>47.862</td>\n      <td>3145.310711</td>\n      <td>3009.69435</td>\n      <td>2874.077989</td>\n    </tr>\n    <tr>\n      <th>32</th>\n      <td>2010-02-24</td>\n      <td>'000001</td>\n      <td>上证指数</td>\n      <td>3022.177</td>\n      <td>3023.739</td>\n      <td>2955.069</td>\n      <td>2964.984</td>\n      <td>2982.575</td>\n      <td>39.602</td>\n      <td>1.3278</td>\n      <td>...</td>\n      <td>79.301110</td>\n      <td>82.015035</td>\n      <td>73.873261</td>\n      <td>3.280200</td>\n      <td>46.031625</td>\n      <td>80.006144</td>\n      <td>18.342</td>\n      <td>3122.429676</td>\n      <td>3003.21070</td>\n      <td>2883.991724</td>\n    </tr>\n    <tr>\n      <th>33</th>\n      <td>2010-02-25</td>\n      <td>'000001</td>\n      <td>上证指数</td>\n      <td>3060.618</td>\n      <td>3063.004</td>\n      <td>3022.373</td>\n      <td>3026.656</td>\n      <td>3022.177</td>\n      <td>38.441</td>\n      <td>1.2720</td>\n      <td>...</td>\n      <td>84.410916</td>\n      <td>81.404035</td>\n      <td>90.424679</td>\n      <td>1.379326</td>\n      <td>50.987051</td>\n      <td>178.449498</td>\n      <td>65.310</td>\n      <td>3097.949016</td>\n      <td>2998.29845</td>\n      <td>2898.647884</td>\n    </tr>\n  </tbody>\n</table>\n<p>5 rows × 35 columns</p>\n</div>"
     },
     "metadata": {},
     "execution_count": 5
    }
   ],
   "source": [
    "#去除Nan\n",
    "stock=stock.dropna()\n",
    "stock.head()"
   ]
  },
  {
   "cell_type": "code",
   "execution_count": 6,
   "metadata": {},
   "outputs": [
    {
     "output_type": "execute_result",
     "data": {
      "text/plain": [
       "array([[2974.0296    , 3098.66296667,   81.44880899, ..., 2841.33264288,\n",
       "           0.41      ,    0.01      ],\n",
       "       [2987.6744    , 3090.6509    ,   86.24391711, ..., 2853.21250175,\n",
       "          -0.16      ,    0.02      ],\n",
       "       [2994.421     , 3080.6641    ,   80.50007788, ..., 2874.07798851,\n",
       "           0.42      ,   -0.        ],\n",
       "       ...,\n",
       "       [3459.63866   , 3405.93504333,   97.65374697, ..., 3307.29760543,\n",
       "          -0.49      ,    0.08      ],\n",
       "       [3494.00676   , 3410.48127   ,   97.18879219, ..., 3293.92806328,\n",
       "           0.1       ,   -0.1       ],\n",
       "       [3526.35714   , 3416.26067333,   99.02595924, ..., 3280.97408321,\n",
       "           0.32      ,   -0.22      ]])"
      ]
     },
     "metadata": {},
     "execution_count": 6
    }
   ],
   "source": [
    "# 取技术指标，美元指数涨跌、USD/CNY汇率涨跌\n",
    "tech_index=stock.values[:, 23:]\n",
    "tech_index=np.column_stack((tech_index, stock['d涨跌幅'].values))\n",
    "tech_index=np.column_stack((tech_index, -stock['r涨跌幅'].values))\n",
    "tech_index=tech_index.astype('float64')\n",
    "tech_index"
   ]
  },
  {
   "cell_type": "code",
   "execution_count": 7,
   "metadata": {},
   "outputs": [
    {
     "output_type": "execute_result",
     "data": {
      "text/plain": [
       "array([[ 0.  ,  0.  ,  0.  , ...,  0.  ,  0.41,  0.01],\n",
       "       [-1.  , -1.  ,  0.  , ...,  0.  , -0.16,  0.02],\n",
       "       [-1.  , -1.  , -1.  , ...,  0.  ,  0.42, -0.  ],\n",
       "       ...,\n",
       "       [ 0.  ,  0.  , -1.  , ..., -1.  , -0.49,  0.08],\n",
       "       [ 0.  ,  0.  , -1.  , ..., -1.  ,  0.1 , -0.1 ],\n",
       "       [ 0.  ,  0.  , -1.  , ..., -1.  ,  0.32, -0.22]])"
      ]
     },
     "metadata": {},
     "execution_count": 7
    }
   ],
   "source": [
    "# 离散化\n",
    "feature_tech_index = tech_index.copy()\n",
    "for i in range(tech_index.shape[0]):\n",
    "    # MA\n",
    "    feature_tech_index[i][0]=0\n",
    "    if i>0 and tech_index[i-1][0]<tech_index[i-1][1] and tech_index[i][0]>tech_index[i][1] :\n",
    "        feature_tech_index[i][0]=1\n",
    "    elif i>0 and tech_index[i-1][0]>tech_index[i-1][1] and tech_index[i][0]>tech_index[i][1] and tech_index[i][0]<tech_index[i-1][0] :\n",
    "        feature_tech_index[i][0]=1\n",
    "    elif i>0 and tech_index[i-1][0]>tech_index[i-1][1] and tech_index[i][0]<tech_index[i][1] :\n",
    "        feature_tech_index[i][0]=-1\n",
    "    elif i>0 and tech_index[i-1][0]<tech_index[i-1][1] and tech_index[i][0]<tech_index[i][1] and tech_index[i][0]>tech_index[i-1][0] :\n",
    "        feature_tech_index[i][0]=-1\n",
    "    feature_tech_index[i][1]=feature_tech_index[i][0]\n",
    "\n",
    "    # K\n",
    "    feature_tech_index[i][2]=0\n",
    "    if tech_index[i][2]>90 :\n",
    "        feature_tech_index[i][2]=-1\n",
    "    elif tech_index[i][2]<10 :\n",
    "        feature_tech_index[i][2]=1\n",
    "    elif i>0 and tech_index[i-1][2]<tech_index[i-1][3] and tech_index[i][2]>tech_index[i][3] :#gold\n",
    "        feature_tech_index[i][2]=1\n",
    "    elif i>0 and tech_index[i-1][2]>tech_index[i-1][3] and tech_index[i][2]<tech_index[i][3] :#death\n",
    "        feature_tech_index[i][2]=-1\n",
    "\n",
    "    # D\n",
    "    feature_tech_index[i][3]=0\n",
    "    if tech_index[i][3]>80 :\n",
    "        feature_tech_index[i][3]=-1\n",
    "    elif tech_index[i][3]<20 :\n",
    "        feature_tech_index[i][3]=1\n",
    "    elif i>0 and tech_index[i-1][2]<tech_index[i-1][3] and tech_index[i][2]>tech_index[i][3] :#gold\n",
    "        feature_tech_index[i][3]=1\n",
    "    elif i>0 and tech_index[i-1][2]>tech_index[i-1][3] and tech_index[i][2]<tech_index[i][3] :#death\n",
    "        feature_tech_index[i][3]=-1\n",
    "\n",
    "    # J\n",
    "    feature_tech_index[i][4]=0\n",
    "    if tech_index[i][4]>100 :\n",
    "        feature_tech_index[i][4]=-1\n",
    "    elif feature_tech_index[i][4]<0 :\n",
    "        feature_tech_index[i][4]=1\n",
    "\n",
    "    # WMS\n",
    "    feature_tech_index[i][5]=0\n",
    "    if tech_index[i][5]>80 :\n",
    "        feature_tech_index[i][5]=1\n",
    "    elif tech_index[i][5]<20 :\n",
    "        feature_tech_index[i][5]=-1\n",
    "\n",
    "    # RST\n",
    "    feature_tech_index[i][6]=0\n",
    "    if i>0 and tech_index[i-1][6]<50 and tech_index[i][6]>50 :\n",
    "        feature_tech_index[i][6]=1\n",
    "        \n",
    "    elif i>0 and tech_index[i-1][6]>50 and tech_index[i][6]<50 :\n",
    "        feature_tech_index[i][6]=-1\n",
    "        \n",
    "    elif tech_index[i][6]>80 :\n",
    "        feature_tech_index[i][6]=-1\n",
    "        \n",
    "    elif tech_index[i][6]<20 :\n",
    "        feature_tech_index[i][6]=1\n",
    "\n",
    "    # CCI\n",
    "    feature_tech_index[i][7]=0\n",
    "    if i>0 and tech_index[i-1][7]>100 and tech_index[i][7]<100 :\n",
    "        feature_tech_index[i][7]=-1\n",
    "    elif i>0 and tech_index[i-1][7]<100 and tech_index[i][7]>100 :\n",
    "        feature_tech_index[i][7]=1\n",
    "    elif i>0 and tech_index[i-1][7]>-100 and tech_index[i][7]<-100 :\n",
    "        feature_tech_index[i][7]=-1\n",
    "    elif i>0 and tech_index[i-1][7]>-100 and tech_index[i][7]<-100 :\n",
    "        feature_tech_index[i][7]=1\n",
    "\n",
    "    # MOM\n",
    "    feature_tech_index[i][8]=0\n",
    "    if i>0 and tech_index[i-1][8]>600 and tech_index[i][8]>600 and tech_index[i][8]<tech_index[i-1][8] :\n",
    "        feature_tech_index[i][8]=-1\n",
    "    elif i>0 and tech_index[i-1][8]<-600 and tech_index[i][8]<-600 and tech_index[i][8]>tech_index[i-1][8] :\n",
    "        feature_tech_index[i][8]=1\n",
    "    elif i>0 and tech_index[i-1][8]>400 and tech_index[i][8]>400 and tech_index[i][8]>tech_index[i-1][8] :\n",
    "        feature_tech_index[i][8]=-1\n",
    "    elif i>0 and tech_index[i-1][8]<-400 and tech_index[i][8]<-400 and tech_index[i][8]<tech_index[i-1][8] :\n",
    "        feature_tech_index[i][8]=1\n",
    "    elif i>0 and tech_index[i-1][8]>200 and tech_index[i][8]>200 and tech_index[i][8]>tech_index[i-1][8] :\n",
    "        feature_tech_index[i][8]=-1\n",
    "    elif i>0 and tech_index[i-1][8]<-200 and tech_index[i][8]<-200 and tech_index[i][8]<tech_index[i-1][8] :\n",
    "        feature_tech_index[i][8]=1\n",
    "\n",
    "    # BOLL\n",
    "    feature_tech_index[i][9]=0\n",
    "    if i>0 and stock['开盘价'].values[i]>tech_index[i-1][9] :\n",
    "        feature_tech_index[i][9]=-1\n",
    "    elif i>0 and stock['开盘价'].values[i]<tech_index[i-1][11] :\n",
    "        feature_tech_index[i][9]=1\n",
    "    feature_tech_index[i][10]=feature_tech_index[i][9]\n",
    "    feature_tech_index[i][11]=feature_tech_index[i][9]\n",
    "\n",
    "feature_tech_index"
   ]
  },
  {
   "cell_type": "code",
   "execution_count": 8,
   "metadata": {},
   "outputs": [
    {
     "output_type": "execute_result",
     "data": {
      "text/plain": [
       "array([[ 0.        ,  0.        ,  0.        , ...,  0.        ,\n",
       "         0.90680123,  0.04252684],\n",
       "       [-1.        , -1.        ,  0.        , ...,  0.        ,\n",
       "        -0.36766685,  0.0930931 ],\n",
       "       [-1.        , -1.        , -1.        , ...,  0.        ,\n",
       "         0.92916031, -0.00803942],\n",
       "       ...,\n",
       "       [ 0.        ,  0.        , -1.        , ..., -1.        ,\n",
       "        -1.10551678,  0.39649068],\n",
       "       [ 0.        ,  0.        , -1.        , ..., -1.        ,\n",
       "         0.21366947, -0.51370205],\n",
       "       [ 0.        ,  0.        , -1.        , ..., -1.        ,\n",
       "         0.70556942, -1.12049721]])"
      ]
     },
     "metadata": {},
     "execution_count": 8
    }
   ],
   "source": [
    "# 归一化\n",
    "feature_tech_index[:,12:]=(feature_tech_index[:,12:]-np.mean(feature_tech_index[:,12:],axis=0))/np.std(feature_tech_index[:,12:],axis=0)\n",
    "# feature_tech_index=(feature_tech_index-np.mean(feature_tech_index,axis=0))/np.std(feature_tech_index,axis=0)\n",
    "feature_tech_index"
   ]
  },
  {
   "cell_type": "code",
   "execution_count": 9,
   "metadata": {},
   "outputs": [
    {
     "output_type": "stream",
     "name": "stdout",
     "text": [
      "(2648, 5)\n"
     ]
    },
    {
     "output_type": "execute_result",
     "data": {
      "text/plain": [
       "array([[ 0.58358365, -0.08818434, -0.47112185, -0.49740663, -0.15754559],\n",
       "       [-0.62764882, -0.24938487, -1.23692688,  1.04315487, -0.9042286 ],\n",
       "       [ 0.48231212, -1.01553604, -1.37085295,  0.24907504,  1.30944396],\n",
       "       ...,\n",
       "       [-1.41135292, -1.8638472 ,  0.43560413,  0.64744006, -0.29388998],\n",
       "       [ 0.14941547, -2.03416226,  0.17953722,  0.42793695, -0.31976051],\n",
       "       [ 0.88251614, -2.25212413,  0.0901947 ,  0.60441893, -0.50407138]])"
      ]
     },
     "metadata": {},
     "execution_count": 9
    }
   ],
   "source": [
    "# PCA\n",
    "estimator = PCA(n_components=5)\n",
    "pca_tech_index = estimator.fit_transform(feature_tech_index)\n",
    "print(pca_tech_index.shape)\n",
    "pca_tech_index"
   ]
  },
  {
   "cell_type": "code",
   "execution_count": 10,
   "metadata": {
    "tags": []
   },
   "outputs": [
    {
     "output_type": "stream",
     "name": "stdout",
     "text": [
      "(2369, 15, 5)\n(12, 15, 5)\n(2369,)\n(12,)\nfloat64\n[[ 0.58358365 -0.08818434 -0.47112185 -0.49740663 -0.15754559]\n [-0.62764882 -0.24938487 -1.23692688  1.04315487 -0.9042286 ]\n [ 0.48231212 -1.01553604 -1.37085295  0.24907504  1.30944396]\n [-0.33990517 -0.81921266 -1.1480932   0.82559559 -0.11598218]\n [-0.44931377 -0.27369228 -1.26673323  0.96703723 -1.03434827]\n [-1.16631821 -1.19935668 -0.56082626  1.5708175   0.39637875]\n [ 0.17495868 -1.5286561  -1.5984611   0.5367448   0.07262795]\n [-0.47763872 -1.95077684  1.46653079 -0.2871234  -0.45673749]\n [-1.2374683  -1.03519859  0.7186559   0.97695717  0.20531528]\n [ 1.28585436 -1.28562765  0.76653129 -1.58885044  0.96838018]\n [-0.13090801 -0.37008424  1.42454426 -0.49275318  0.14744538]\n [ 0.1667273   0.15853698  1.1726608  -0.74971634 -0.2124346 ]\n [ 0.44270836  0.10661     0.89227968 -0.97217437 -0.34505158]\n [-0.12995382  0.20678367  1.42815328 -0.57179833 -0.07684097]\n [-0.12536281  0.27034237  0.17848091  0.23029498  0.00280682]]\n[0 0 1 ... 1 0 1]\n"
     ]
    }
   ],
   "source": [
    "# 划分训练集、测试集\n",
    "x_train=[]\n",
    "y_train=[]\n",
    "x_test=[]\n",
    "y_test=[]\n",
    "divide = pca_tech_index.shape[0]*9/10\n",
    "for i in range(15, tech_index.shape[0]):\n",
    "    if i<divide:\n",
    "        tmp = pca_tech_index[i-15:i, :]\n",
    "        x_train.append(tmp)\n",
    "        if float(stock.iloc[i]['涨跌幅'])>0:\n",
    "            y_train.append(1)\n",
    "        else:\n",
    "            y_train.append(0)\n",
    "    elif i>2635:\n",
    "        tmp=pca_tech_index[i-15:i,:]\n",
    "        x_test.append(tmp)\n",
    "        if float(stock.iloc[i]['涨跌幅'])>0:\n",
    "            y_test.append(1)\n",
    "        else:\n",
    "            y_test.append(0)\n",
    "\n",
    "x_train,y_train,x_test,y_test=np.array(x_train),np.array(y_train),np.array(x_test),np.array(y_test)\n",
    "print(x_train.shape)\n",
    "print(x_test.shape)\n",
    "print(y_train.shape)\n",
    "print(y_test.shape)\n",
    "print(x_train.dtype)\n",
    "print(x_train[0])\n",
    "print(y_train)"
   ]
  },
  {
   "cell_type": "code",
   "execution_count": 11,
   "metadata": {},
   "outputs": [
    {
     "output_type": "stream",
     "name": "stdout",
     "text": [
      "[[1. 0.]\n [1. 0.]\n [0. 1.]\n ...\n [0. 1.]\n [1. 0.]\n [0. 1.]]\n"
     ]
    }
   ],
   "source": [
    "# 独热化\n",
    "label_cnt=len(Counter(y_train))\n",
    "y_train=utils.to_categorical(y_train, label_cnt)\n",
    "y_test=utils.to_categorical(y_test, label_cnt)\n",
    "print(y_train)"
   ]
  },
  {
   "cell_type": "code",
   "execution_count": 12,
   "metadata": {},
   "outputs": [
    {
     "output_type": "stream",
     "name": "stdout",
     "text": [
      "Model: \"sequential\"\n_________________________________________________________________\nLayer (type)                 Output Shape              Param #   \n=================================================================\nlstm (LSTM)                  (None, 15, 50)            11200     \n_________________________________________________________________\ndropout (Dropout)            (None, 15, 50)            0         \n_________________________________________________________________\nlstm_1 (LSTM)                (None, 50)                20200     \n_________________________________________________________________\ndropout_1 (Dropout)          (None, 50)                0         \n_________________________________________________________________\ndense (Dense)                (None, 25)                1275      \n_________________________________________________________________\ndense_1 (Dense)              (None, 2)                 52        \n=================================================================\nTotal params: 32,727\nTrainable params: 32,727\nNon-trainable params: 0\n_________________________________________________________________\n"
     ]
    }
   ],
   "source": [
    "# LSTM模型搭建\n",
    "model=Sequential()\n",
    "model.add(LSTM(units=50, activation='relu',input_shape=(x_train.shape[1], x_train.shape[2]),return_sequences=True))\n",
    "model.add(Dropout(0.2))\n",
    "model.add(LSTM(units=50, activation='relu', return_sequences=False))\n",
    "model.add(Dropout(0.2))\n",
    "model.add(Dense(units=25))\n",
    "model.add(Dense(y_train.shape[1], activation='softmax'))\n",
    "model.summary()"
   ]
  },
  {
   "cell_type": "code",
   "execution_count": 13,
   "metadata": {},
   "outputs": [
    {
     "output_type": "stream",
     "name": "stdout",
     "text": [
      "Epoch 1/5\n",
      "1895/1895 [==============================] - 8s 4ms/step - loss: 0.6946 - accuracy: 0.5066 - val_loss: 0.6954 - val_accuracy: 0.4979\n",
      "Epoch 2/5\n",
      "1895/1895 [==============================] - 7s 4ms/step - loss: 0.6927 - accuracy: 0.5230 - val_loss: 0.6926 - val_accuracy: 0.5232\n",
      "Epoch 3/5\n",
      "1895/1895 [==============================] - 7s 4ms/step - loss: 0.6931 - accuracy: 0.5208 - val_loss: 0.6938 - val_accuracy: 0.4979\n",
      "Epoch 4/5\n",
      "1895/1895 [==============================] - 7s 4ms/step - loss: 0.6922 - accuracy: 0.5298 - val_loss: 0.6950 - val_accuracy: 0.4979\n",
      "Epoch 5/5\n",
      "1895/1895 [==============================] - 7s 4ms/step - loss: 0.6914 - accuracy: 0.5277 - val_loss: 0.6966 - val_accuracy: 0.4979\n"
     ]
    }
   ],
   "source": [
    "# 模型训练\n",
    "model.compile(loss='categorical_crossentropy', optimizer='adam', metrics=['accuracy']) \n",
    "h = model.fit(x_train, y_train, validation_split=0.2, batch_size=1, epochs=5)"
   ]
  },
  {
   "cell_type": "code",
   "execution_count": 14,
   "metadata": {},
   "outputs": [
    {
     "output_type": "stream",
     "name": "stdout",
     "text": [
      "测试集损失值: 0.65190190076828, 测试集准确率: 0.75\n"
     ]
    }
   ],
   "source": [
    "# 测试\n",
    "test_loss, test_acc = model.evaluate(x_test, y_test, verbose=0)\n",
    "print(f'测试集损失值: {test_loss}, 测试集准确率: {test_acc}')"
   ]
  },
  {
   "cell_type": "code",
   "execution_count": null,
   "metadata": {},
   "outputs": [],
   "source": []
  }
 ]
}